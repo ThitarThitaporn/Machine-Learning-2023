{
 "cells": [
  {
   "cell_type": "markdown",
   "metadata": {},
   "source": [
    "# **LAB 1 - PART 2**\n",
    "- Data Exploration, Cleansing, and Transform\n",
    "- Remove variables with High Variable Correlation\n",
    "- Remove Variables with High p-value according to Chi-square"
   ]
  },
  {
   "cell_type": "markdown",
   "metadata": {},
   "source": [
    "### Import tools"
   ]
  },
  {
   "cell_type": "code",
   "execution_count": 1070,
   "metadata": {},
   "outputs": [],
   "source": [
    "import numpy as np\n",
    "import pandas as pd\n",
    "import matplotlib.pyplot as plt\n",
    "import seaborn as sns\n",
    "from sklearn import preprocessing\n",
    "from sklearn.feature_selection import chi2"
   ]
  },
  {
   "cell_type": "markdown",
   "metadata": {},
   "source": [
    "## **1. Data Exploration**\n",
    "Read the Data_example.csv files\n",
    "<details>\n",
    "<summary>\n",
    "<font size=\"3\" color=\"Yellow\">\n",
    "<b>Columns Information</b>\n",
    "</font>\n",
    "</summary>\n",
    "\n",
    "</br>There are 25 variables:\n",
    "\n",
    "- **ID**: ID of each client\n",
    "- **LIMIT_BAL**: Amount of given credit in NT dollars (includes individual and family/supplementary credit)\n",
    "- **SEX**: Gender (M, F)\n",
    "- **EDUCATION**: (graduate school, university, high school, others, unknown, unknown)\n",
    "- **MARRIAGE**: Marital status (married, single, others)\n",
    "- **AGE**: Age in years\n",
    "- **PAY_0**: Repayment status in September, 2005 (-1=pay duly, 1=payment delay for one month, 2=payment delay for two months, … 8=payment delay for eight months, 9=payment delay for nine months and above)\n",
    "- **PAY_2**: Repayment status in August, 2005 (scale same as above)\n",
    "- **PAY_3**: Repayment status in July, 2005 (scale same as above)\n",
    "- **PAY_4**: Repayment status in June, 2005 (scale same as above)\n",
    "- **PAY_5**: Repayment status in May, 2005 (scale same as above)\n",
    "- **PAY_6**: Repayment status in April, 2005 (scale same as above)\n",
    "- **BILL_AMT1**: Amount of bill statement in September, 2005 (NT dollar)\n",
    "- **BILL_AMT2**: Amount of bill statement in August, 2005 (NT dollar)\n",
    "- **BILL_AMT3**: Amount of bill statement in July, 2005 (NT dollar)\n",
    "- **BILL_AMT4**: Amount of bill statement in June, 2005 (NT dollar)\n",
    "- **BILL_AMT5**: Amount of bill statement in May, 2005 (NT dollar)\n",
    "- **BILL_AMT6**: Amount of bill statement in April, 2005 (NT dollar)\n",
    "- **PAY_AMT1**: Amount of previous payment in September, 2005 (NT dollar)\n",
    "- **PAY_AMT2**: Amount of previous payment in August, 2005 (NT dollar)\n",
    "- **PAY_AMT3**: Amount of previous payment in July, 2005 (NT dollar)\n",
    "- **PAY_AMT4**: Amount of previous payment in June, 2005 (NT dollar)\n",
    "- **PAY_AMT5**: Amount of previous payment in May, 2005 (NT dollar)\n",
    "- **PAY_AMT6**: Amount of previous payment in April, 2005 (NT dollar)\n",
    "- **default**: Default payment (Y, N)\n",
    "\n",
    "<details>\n",
    "\n",
    "<summary>\n",
    "<font size=\"3\" color=\"green\">\n",
    "<b>Hints</b>\n",
    "</font>\n",
    "</summary>\n",
    "\n",
    "- `pd.read_csv()`\n",
    "</details>"
   ]
  },
  {
   "cell_type": "code",
   "execution_count": 1071,
   "metadata": {},
   "outputs": [],
   "source": [
    "### START CODE HERE ###\n",
    "df = pd.read_csv(\"Credit-Card-Defaulter-Prediction.csv\",sep=\",\")\n",
    "### END CODE HERE ###"
   ]
  },
  {
   "cell_type": "markdown",
   "metadata": {},
   "source": [
    "Remove column `ID`.\n",
    "<details>\n",
    "\n",
    "<summary>\n",
    "<font size=\"3\" color=\"green\">\n",
    "<b>Hints</b>\n",
    "</font>\n",
    "</summary>\n",
    "\n",
    "- `df.drop()`\n",
    "</details>"
   ]
  },
  {
   "cell_type": "code",
   "execution_count": 1072,
   "metadata": {},
   "outputs": [],
   "source": [
    "### START CODE HERE ###\n",
    "df2 = df.drop('ID', axis=1, inplace=True)\n",
    "### END CODE HERE ###"
   ]
  },
  {
   "cell_type": "markdown",
   "metadata": {},
   "source": [
    "<details>\n",
    "\n",
    "<summary>\n",
    "<font size=\"3\" color=\"orange\">\n",
    "<b>Expected output</b>\n",
    "</font>\n",
    "</summary>\n",
    "\n",
    "- `\n",
    "Index(['LIMIT_BAL', 'SEX', 'EDUCATION', 'MARRIAGE', 'AGE', 'PAY_0', 'PAY_2',\n",
    "       'PAY_3', 'PAY_4', 'PAY_5', 'PAY_6', 'BILL_AMT1', 'BILL_AMT2',\n",
    "       'BILL_AMT3', 'BILL_AMT4', 'BILL_AMT5', 'BILL_AMT6', 'PAY_AMT1',\n",
    "       'PAY_AMT2', 'PAY_AMT3', 'PAY_AMT4', 'PAY_AMT5', 'PAY_AMT6', 'default '],\n",
    "      dtype='object')\n",
    "`\n",
    "\n",
    "</details>"
   ]
  },
  {
   "cell_type": "code",
   "execution_count": 1073,
   "metadata": {},
   "outputs": [
    {
     "data": {
      "text/plain": [
       "Index(['LIMIT_BAL', 'SEX', 'EDUCATION', 'MARRIAGE', 'AGE', 'PAY_0', 'PAY_2',\n",
       "       'PAY_3', 'PAY_4', 'PAY_5', 'PAY_6', 'BILL_AMT1', 'BILL_AMT2',\n",
       "       'BILL_AMT3', 'BILL_AMT4', 'BILL_AMT5', 'BILL_AMT6', 'PAY_AMT1',\n",
       "       'PAY_AMT2', 'PAY_AMT3', 'PAY_AMT4', 'PAY_AMT5', 'PAY_AMT6', 'default '],\n",
       "      dtype='object')"
      ]
     },
     "execution_count": 1073,
     "metadata": {},
     "output_type": "execute_result"
    }
   ],
   "source": [
    "df.columns"
   ]
  },
  {
   "cell_type": "markdown",
   "metadata": {},
   "source": [
    "#### Fill NA values\n",
    "Before proceeding with filling missing values, it is crucial to comprehend the significance of each numerical column in the dataset. This understanding will guide the appropriate method for handling missing data in a way that aligns with the context and characteristics of each column.\n",
    "<details>\n",
    "\n",
    "<summary>\n",
    "<font size=\"3\" color=\"green\">\n",
    "<b>Hints</b>\n",
    "</font>\n",
    "</summary>\n",
    "\n",
    "- `.fillna()`\n",
    "- Please explore the statistical values for each column (mean, median, min, max, etc.). Careful about column 'PAY_X'.\n",
    "</details>"
   ]
  },
  {
   "cell_type": "code",
   "execution_count": 1074,
   "metadata": {},
   "outputs": [
    {
     "name": "stdout",
     "output_type": "stream",
     "text": [
      "Index(['LIMIT_BAL', 'SEX', 'EDUCATION', 'MARRIAGE', 'AGE', 'PAY_0', 'PAY_2',\n",
      "       'PAY_3', 'PAY_4', 'PAY_5', 'PAY_6', 'BILL_AMT1', 'BILL_AMT2',\n",
      "       'BILL_AMT3', 'BILL_AMT4', 'BILL_AMT5', 'BILL_AMT6', 'PAY_AMT1',\n",
      "       'PAY_AMT2', 'PAY_AMT3', 'PAY_AMT4', 'PAY_AMT5', 'PAY_AMT6', 'default '],\n",
      "      dtype='object')\n"
     ]
    }
   ],
   "source": [
    "### START CODE HERE ###\n",
    "non_numeric_columns = df.select_dtypes(exclude=[np.number]).columns\n",
    "\n",
    "# Exclude non-numeric columns from the operation\n",
    "numeric_columns = df.columns.difference(non_numeric_columns)\n",
    "\n",
    "# Fill NaN values with the median for numeric columns only\n",
    "df[numeric_columns] = df[numeric_columns].apply(lambda x: x.fillna(x.median()))\n",
    "\n",
    "print(df.columns)\n",
    "\n",
    "### END CODE HERE ###"
   ]
  },
  {
   "cell_type": "markdown",
   "metadata": {},
   "source": [
    "<details>\n",
    "\n",
    "<summary>\n",
    "<font size=\"3\" color=\"orange\">\n",
    "<b>Expected output</b>\n",
    "</font>\n",
    "</summary>\n",
    "\n",
    "\n",
    "```\n",
    "RangeIndex: 30000 entries, 0 to 29999\n",
    "Data columns (total 24 columns):\n",
    " #   Column     Non-Null Count  Dtype  \n",
    "---  ------     --------------  -----  \n",
    " 0   LIMIT_BAL  30000 non-null  int64  \n",
    " 1   SEX        30000 non-null  object \n",
    " 2   EDUCATION  30000 non-null  object \n",
    " 3   MARRIAGE   30000 non-null  object \n",
    " 4   AGE        30000 non-null  int64  \n",
    " 5   PAY_0      30000 non-null  float64\n",
    " 6   PAY_2      30000 non-null  float64\n",
    " 7   PAY_3      30000 non-null  float64\n",
    " 8   PAY_4      30000 non-null  float64\n",
    " 9   PAY_5      30000 non-null  float64\n",
    " 10  PAY_6      30000 non-null  float64\n",
    " 11  BILL_AMT1  30000 non-null  float64\n",
    " 12  BILL_AMT2  30000 non-null  float64\n",
    " 13  BILL_AMT3  30000 non-null  float64\n",
    " 14  BILL_AMT4  30000 non-null  float64\n",
    " 15  BILL_AMT5  30000 non-null  float64\n",
    " 16  BILL_AMT6  30000 non-null  float64\n",
    " 17  PAY_AMT1   30000 non-null  float64\n",
    " 18  PAY_AMT2   30000 non-null  float64\n",
    " 19  PAY_AMT3   30000 non-null  float64\n",
    " 20  PAY_AMT4   30000 non-null  float64\n",
    " 21  PAY_AMT5   30000 non-null  float64\n",
    " 22  PAY_AMT6   30000 non-null  float64\n",
    " 23  default    30000 non-null  object \n",
    "dtypes: float64(18), int64(2), object(4)\n",
    "memory usage: 5.5+ MB\n",
    "```\n",
    "\n",
    "</details>"
   ]
  },
  {
   "cell_type": "code",
   "execution_count": 1075,
   "metadata": {},
   "outputs": [
    {
     "name": "stdout",
     "output_type": "stream",
     "text": [
      "<class 'pandas.core.frame.DataFrame'>\n",
      "RangeIndex: 30000 entries, 0 to 29999\n",
      "Data columns (total 24 columns):\n",
      " #   Column     Non-Null Count  Dtype  \n",
      "---  ------     --------------  -----  \n",
      " 0   LIMIT_BAL  30000 non-null  int64  \n",
      " 1   SEX        30000 non-null  object \n",
      " 2   EDUCATION  30000 non-null  object \n",
      " 3   MARRIAGE   30000 non-null  object \n",
      " 4   AGE        30000 non-null  int64  \n",
      " 5   PAY_0      30000 non-null  float64\n",
      " 6   PAY_2      30000 non-null  float64\n",
      " 7   PAY_3      30000 non-null  float64\n",
      " 8   PAY_4      30000 non-null  float64\n",
      " 9   PAY_5      30000 non-null  float64\n",
      " 10  PAY_6      30000 non-null  float64\n",
      " 11  BILL_AMT1  30000 non-null  float64\n",
      " 12  BILL_AMT2  30000 non-null  float64\n",
      " 13  BILL_AMT3  30000 non-null  float64\n",
      " 14  BILL_AMT4  30000 non-null  float64\n",
      " 15  BILL_AMT5  30000 non-null  float64\n",
      " 16  BILL_AMT6  30000 non-null  float64\n",
      " 17  PAY_AMT1   30000 non-null  float64\n",
      " 18  PAY_AMT2   30000 non-null  float64\n",
      " 19  PAY_AMT3   30000 non-null  float64\n",
      " 20  PAY_AMT4   30000 non-null  float64\n",
      " 21  PAY_AMT5   30000 non-null  float64\n",
      " 22  PAY_AMT6   30000 non-null  float64\n",
      " 23  default    30000 non-null  object \n",
      "dtypes: float64(18), int64(2), object(4)\n",
      "memory usage: 5.5+ MB\n"
     ]
    }
   ],
   "source": [
    "df.info()"
   ]
  },
  {
   "cell_type": "markdown",
   "metadata": {},
   "source": [
    "## **2. Remove variables with High Variable Correlation**"
   ]
  },
  {
   "cell_type": "markdown",
   "metadata": {},
   "source": [
    "Calculate the correlation of the numerical columns.\n",
    "$$\n",
    "\\rho_{X,Y} = \\frac{\\text{cov}(X, Y)}{\\sigma_X \\sigma_Y}\n",
    "$$\n",
    "\n"
   ]
  },
  {
   "cell_type": "markdown",
   "metadata": {},
   "source": [
    "<details>\n",
    "\n",
    "<summary>\n",
    "<font size=\"3\" color=\"green\">\n",
    "<b>Hints</b>\n",
    "</font>\n",
    "</summary>\n",
    "\n",
    "- Retrieve the numerical columns first, and then calculate the correlation.\n",
    "- `.corr()`\n",
    "</details>"
   ]
  },
  {
   "cell_type": "code",
   "execution_count": 1076,
   "metadata": {},
   "outputs": [],
   "source": [
    "### START CODE HERE ###\n",
    "df = df.select_dtypes(include=['number'])\n",
    "correlation_matrix = df.corr()\n",
    "\n",
    "### END CODE HERE ###"
   ]
  },
  {
   "attachments": {
    "image.png": {
     "image/png": "[encoded data removed]"
    }
   },
   "cell_type": "markdown",
   "metadata": {},
   "source": [
    "<details>\n",
    "\n",
    "<summary>\n",
    "<font size=\"3\" color=\"orange\">\n",
    "<b>Expected output</b>\n",
    "</font>\n",
    "</summary>\n",
    "\n",
    "- The output should resemble this, but not be identical, depending on your `.fillna()` method.</br>\n",
    "\n",
    "![image.png](attachment:image.png)\n",
    "</details>"
   ]
  },
  {
   "cell_type": "code",
   "execution_count": 1077,
   "metadata": {},
   "outputs": [
    {
     "data": {
      "text/plain": [
       "<Axes: >"
      ]
     },
     "execution_count": 1077,
     "metadata": {},
     "output_type": "execute_result"
    },
    {
     "data": {
      "image/png": "[encoded data removed]",
      "text/plain": [
       "<Figure size 640x480 with 2 Axes>"
      ]
     },
     "metadata": {},
     "output_type": "display_data"
    }
   ],
   "source": [
    "sns.heatmap(correlation_matrix)"
   ]
  },
  {
   "cell_type": "markdown",
   "metadata": {},
   "source": [
    "Extract the lower triangular part of the correlation matrix.\n",
    "<details>\n",
    "<summary>\n",
    "<font size=\"3\" color=\"green\">\n",
    "<b>Hints</b>\n",
    "</font>\n",
    "</summary>\n",
    "\n",
    "- `np.tril()` migth be useful here.\n",
    "</details>"
   ]
  },
  {
   "cell_type": "code",
   "execution_count": 1078,
   "metadata": {},
   "outputs": [],
   "source": [
    "### START CODE HERE ###\n",
    "lower = np.tril(correlation_matrix, k=-1)\n",
    "### END CODE HERE ###"
   ]
  },
  {
   "attachments": {
    "image.png": {
     "image/png": "[encoded data removed]"
    }
   },
   "cell_type": "markdown",
   "metadata": {},
   "source": [
    "<details>\n",
    "\n",
    "<summary>\n",
    "<font size=\"3\" color=\"orange\">\n",
    "<b>Expected output</b>\n",
    "</font>\n",
    "</summary>\n",
    "\n",
    "- The output should resemble this, but not be identical, depending on your `.fillna()` method.</br>\n",
    "\n",
    "![image.png](attachment:image.png)\n",
    "</details>"
   ]
  },
  {
   "cell_type": "code",
   "execution_count": 1079,
   "metadata": {},
   "outputs": [
    {
     "data": {
      "text/plain": [
       "<Axes: >"
      ]
     },
     "execution_count": 1079,
     "metadata": {},
     "output_type": "execute_result"
    },
    {
     "data": {
      "image/png": "[encoded data removed]",
      "text/plain": [
       "<Figure size 640x480 with 2 Axes>"
      ]
     },
     "metadata": {},
     "output_type": "display_data"
    }
   ],
   "source": [
    "sns.heatmap(lower)"
   ]
  },
  {
   "cell_type": "markdown",
   "metadata": {},
   "source": [
    "Drop the input variables (columns) that have high correlation (too similar) > 0.6.\n",
    "(high correlation = large similarity)"
   ]
  },
  {
   "cell_type": "code",
   "execution_count": 1080,
   "metadata": {},
   "outputs": [],
   "source": [
    "### START CODE HERE ###\n",
    "to_drop = [ ]\n",
    "\n",
    "for c1 in df:\n",
    "  for c2 in df:\n",
    "    if c1 != c2 and c2 not in to_drop and correlation_matrix[c1][c2] > 0.6:\n",
    "      to_drop.append(c1)\n",
    "df2 = df.drop(columns=to_drop)\n",
    "### END CODE HERE ###"
   ]
  },
  {
   "cell_type": "markdown",
   "metadata": {},
   "source": [
    "<details>\n",
    "\n",
    "<summary>\n",
    "<font size=\"3\" color=\"orange\">\n",
    "<b>Expected output</b>\n",
    "</font>\n",
    "</summary>\n",
    "\n",
    "- The output should resemble this, but not be identical, depending on your `.fillna()` method.</br>\n",
    "\n",
    "|             | LIMIT_BAL | AGE   | PAY_6 | BILL_AMT6 | PAY_AMT1 | PAY_AMT2 | PAY_AMT3 | PAY_AMT4 | PAY_AMT5 | PAY_AMT6 |\n",
    "|-------------|-----------|-------|-------|-----------|----------|----------|----------|----------|----------|----------|\n",
    "| count       | 30000.0   | 30000 | 30000 | 30000.0   | 30000    | 30000    | 30000    | 30000    | 30000    | 30000    |\n",
    "| mean        | 167484.32 | 35.49 | -0.29 | 39693.41  | 5817.55  | 6086.10  | 5387.49  | 4985.62  | 4972.94  | 5409.71  |\n",
    "| std         | 129747.66 | 9.22  | 1.15  | 59285.34  | 16536.93 | 23019.67 | 17582.93 | 15641.57 | 15251.02 | 17748.95 |\n",
    "| min         | 10000.0   | 21    | -2.0  | -339603.0 | 0        | 0        | 0        | 0        | 0        | 0        |\n",
    "| 25%         | 50000.0   | 28    | -1.0  | 1760.0    | 1125.0   | 1000.0   | 614.75   | 416.0    | 412.0    | 389.0    |\n",
    "| 50%         | 140000.0  | 34    | 0.0   | 18480.5   | 2400.0   | 2200.5   | 2000.0   | 1770.5   | 1880.0   | 1800.0   |\n",
    "| 75%         | 240000.0  | 41    | 0.0   | 49198.25  | 5700.0   | 5433.0   | 5000.0   | 4985.62  | 4972.94  | 5000.0   |\n",
    "| max         | 1000000.0 | 79    | 8.0   | 961664.0  | 873552.0 | 1684259.0| 896040.0 | 621000.0 | 426529.0 | 528666.0 |\n",
    "\n",
    "</details>"
   ]
  },
  {
   "cell_type": "code",
   "execution_count": 1081,
   "metadata": {},
   "outputs": [
    {
     "data": {
      "text/html": [
       "<div>\n",
       "<style scoped>\n",
       "    .dataframe tbody tr th:only-of-type {\n",
       "        vertical-align: middle;\n",
       "    }\n",
       "\n",
       "    .dataframe tbody tr th {\n",
       "        vertical-align: top;\n",
       "    }\n",
       "\n",
       "    .dataframe thead th {\n",
       "        text-align: right;\n",
       "    }\n",
       "</style>\n",
       "<table border=\"1\" class=\"dataframe\">\n",
       "  <thead>\n",
       "    <tr style=\"text-align: right;\">\n",
       "      <th></th>\n",
       "      <th>LIMIT_BAL</th>\n",
       "      <th>AGE</th>\n",
       "      <th>PAY_6</th>\n",
       "      <th>BILL_AMT6</th>\n",
       "      <th>PAY_AMT1</th>\n",
       "      <th>PAY_AMT2</th>\n",
       "      <th>PAY_AMT3</th>\n",
       "      <th>PAY_AMT4</th>\n",
       "      <th>PAY_AMT5</th>\n",
       "      <th>PAY_AMT6</th>\n",
       "    </tr>\n",
       "  </thead>\n",
       "  <tbody>\n",
       "    <tr>\n",
       "      <th>count</th>\n",
       "      <td>30000.000000</td>\n",
       "      <td>30000.000000</td>\n",
       "      <td>30000.000000</td>\n",
       "      <td>30000.000000</td>\n",
       "      <td>30000.000000</td>\n",
       "      <td>3.000000e+04</td>\n",
       "      <td>30000.000000</td>\n",
       "      <td>30000.000000</td>\n",
       "      <td>30000.000000</td>\n",
       "      <td>30000.000000</td>\n",
       "    </tr>\n",
       "    <tr>\n",
       "      <th>mean</th>\n",
       "      <td>167484.322667</td>\n",
       "      <td>35.485500</td>\n",
       "      <td>-0.291100</td>\n",
       "      <td>39240.717200</td>\n",
       "      <td>5722.323267</td>\n",
       "      <td>5.978074e+03</td>\n",
       "      <td>5285.748167</td>\n",
       "      <td>4877.276867</td>\n",
       "      <td>4858.368633</td>\n",
       "      <td>5272.942567</td>\n",
       "    </tr>\n",
       "    <tr>\n",
       "      <th>std</th>\n",
       "      <td>129747.661567</td>\n",
       "      <td>9.217904</td>\n",
       "      <td>1.149988</td>\n",
       "      <td>59367.054325</td>\n",
       "      <td>16547.017200</td>\n",
       "      <td>2.302876e+04</td>\n",
       "      <td>17592.436498</td>\n",
       "      <td>15652.912048</td>\n",
       "      <td>15262.917890</td>\n",
       "      <td>17763.099957</td>\n",
       "    </tr>\n",
       "    <tr>\n",
       "      <th>min</th>\n",
       "      <td>10000.000000</td>\n",
       "      <td>21.000000</td>\n",
       "      <td>-2.000000</td>\n",
       "      <td>-339603.000000</td>\n",
       "      <td>0.000000</td>\n",
       "      <td>0.000000e+00</td>\n",
       "      <td>0.000000</td>\n",
       "      <td>0.000000</td>\n",
       "      <td>0.000000</td>\n",
       "      <td>0.000000</td>\n",
       "    </tr>\n",
       "    <tr>\n",
       "      <th>25%</th>\n",
       "      <td>50000.000000</td>\n",
       "      <td>28.000000</td>\n",
       "      <td>-1.000000</td>\n",
       "      <td>1760.000000</td>\n",
       "      <td>1125.000000</td>\n",
       "      <td>1.000000e+03</td>\n",
       "      <td>614.750000</td>\n",
       "      <td>416.000000</td>\n",
       "      <td>412.000000</td>\n",
       "      <td>389.000000</td>\n",
       "    </tr>\n",
       "    <tr>\n",
       "      <th>50%</th>\n",
       "      <td>140000.000000</td>\n",
       "      <td>34.000000</td>\n",
       "      <td>0.000000</td>\n",
       "      <td>17824.000000</td>\n",
       "      <td>2219.500000</td>\n",
       "      <td>2.100000e+03</td>\n",
       "      <td>2000.000000</td>\n",
       "      <td>1600.000000</td>\n",
       "      <td>1690.000000</td>\n",
       "      <td>1600.000000</td>\n",
       "    </tr>\n",
       "    <tr>\n",
       "      <th>75%</th>\n",
       "      <td>240000.000000</td>\n",
       "      <td>41.000000</td>\n",
       "      <td>0.000000</td>\n",
       "      <td>49198.250000</td>\n",
       "      <td>5006.000000</td>\n",
       "      <td>5.000000e+03</td>\n",
       "      <td>4505.000000</td>\n",
       "      <td>4013.250000</td>\n",
       "      <td>4031.500000</td>\n",
       "      <td>4000.000000</td>\n",
       "    </tr>\n",
       "    <tr>\n",
       "      <th>max</th>\n",
       "      <td>1000000.000000</td>\n",
       "      <td>79.000000</td>\n",
       "      <td>8.000000</td>\n",
       "      <td>961664.000000</td>\n",
       "      <td>873552.000000</td>\n",
       "      <td>1.684259e+06</td>\n",
       "      <td>896040.000000</td>\n",
       "      <td>621000.000000</td>\n",
       "      <td>426529.000000</td>\n",
       "      <td>528666.000000</td>\n",
       "    </tr>\n",
       "  </tbody>\n",
       "</table>\n",
       "</div>"
      ],
      "text/plain": [
       "            LIMIT_BAL           AGE         PAY_6      BILL_AMT6  \\\n",
       "count    30000.000000  30000.000000  30000.000000   30000.000000   \n",
       "mean    167484.322667     35.485500     -0.291100   39240.717200   \n",
       "std     129747.661567      9.217904      1.149988   59367.054325   \n",
       "min      10000.000000     21.000000     -2.000000 -339603.000000   \n",
       "25%      50000.000000     28.000000     -1.000000    1760.000000   \n",
       "50%     140000.000000     34.000000      0.000000   17824.000000   \n",
       "75%     240000.000000     41.000000      0.000000   49198.250000   \n",
       "max    1000000.000000     79.000000      8.000000  961664.000000   \n",
       "\n",
       "            PAY_AMT1      PAY_AMT2       PAY_AMT3       PAY_AMT4  \\\n",
       "count   30000.000000  3.000000e+04   30000.000000   30000.000000   \n",
       "mean     5722.323267  5.978074e+03    5285.748167    4877.276867   \n",
       "std     16547.017200  2.302876e+04   17592.436498   15652.912048   \n",
       "min         0.000000  0.000000e+00       0.000000       0.000000   \n",
       "25%      1125.000000  1.000000e+03     614.750000     416.000000   \n",
       "50%      2219.500000  2.100000e+03    2000.000000    1600.000000   \n",
       "75%      5006.000000  5.000000e+03    4505.000000    4013.250000   \n",
       "max    873552.000000  1.684259e+06  896040.000000  621000.000000   \n",
       "\n",
       "            PAY_AMT5       PAY_AMT6  \n",
       "count   30000.000000   30000.000000  \n",
       "mean     4858.368633    5272.942567  \n",
       "std     15262.917890   17763.099957  \n",
       "min         0.000000       0.000000  \n",
       "25%       412.000000     389.000000  \n",
       "50%      1690.000000    1600.000000  \n",
       "75%      4031.500000    4000.000000  \n",
       "max    426529.000000  528666.000000  "
      ]
     },
     "execution_count": 1081,
     "metadata": {},
     "output_type": "execute_result"
    }
   ],
   "source": [
    "df2.describe()"
   ]
  },
  {
   "cell_type": "markdown",
   "metadata": {},
   "source": [
    "## **3. Remove Variables with High p-values from Chi-square**"
   ]
  },
  {
   "cell_type": "markdown",
   "metadata": {},
   "source": [
    "Data Exploration, Cleansing, and Transform\n",
    "1. List of variation in each column (`.unique()`)\n",
    "2. Replace '0' and NaN\n",
    "3. Explore data statistics"
   ]
  },
  {
   "cell_type": "code",
   "execution_count": 1082,
   "metadata": {},
   "outputs": [
    {
     "name": "stdout",
     "output_type": "stream",
     "text": [
      "            LIMIT_BAL           AGE         PAY_0         PAY_2         PAY_3  \\\n",
      "count    30000.000000  30000.000000  30000.000000  30000.000000  30000.000000   \n",
      "mean    167484.322667     35.485500     -0.016700     -0.133767     -0.166200   \n",
      "std     129747.661567      9.217904      1.123802      1.197186      1.196868   \n",
      "min      10000.000000     21.000000     -2.000000     -2.000000     -2.000000   \n",
      "25%      50000.000000     28.000000     -1.000000     -1.000000     -1.000000   \n",
      "50%     140000.000000     34.000000      0.000000      0.000000      0.000000   \n",
      "75%     240000.000000     41.000000      0.000000      0.000000      0.000000   \n",
      "max    1000000.000000     79.000000      8.000000      8.000000      8.000000   \n",
      "\n",
      "              PAY_4         PAY_5         PAY_6     BILL_AMT1      BILL_AMT2  \\\n",
      "count  30000.000000  30000.000000  30000.000000   30000.00000   30000.000000   \n",
      "mean      -0.220667     -0.266200     -0.291100   51427.44600   49441.624867   \n",
      "std        1.169139      1.133187      1.149988   73525.40839   71032.418595   \n",
      "min       -2.000000     -2.000000     -2.000000 -165580.00000  -69777.000000   \n",
      "25%       -1.000000     -1.000000     -1.000000    3944.50000    3495.000000   \n",
      "50%        0.000000      0.000000      0.000000   23020.50000   22063.000000   \n",
      "75%        0.000000      0.000000      0.000000   67091.00000   64006.250000   \n",
      "max        8.000000      8.000000      8.000000  964511.00000  983931.000000   \n",
      "\n",
      "          BILL_AMT3      BILL_AMT4      BILL_AMT5      BILL_AMT6  \\\n",
      "count  3.000000e+04   30000.000000   30000.000000   30000.000000   \n",
      "mean   4.730943e+04   43552.827367   40658.974300   39240.717200   \n",
      "std    6.919187e+04   64180.812423   60618.661315   59367.054325   \n",
      "min   -1.572640e+05 -170000.000000  -81334.000000 -339603.000000   \n",
      "25%    3.329750e+03    2839.750000    2358.500000    1760.000000   \n",
      "50%    2.067050e+04   19411.500000   18620.000000   17824.000000   \n",
      "75%    6.016475e+04   54506.000000   50190.500000   49198.250000   \n",
      "max    1.664089e+06  891586.000000  927171.000000  961664.000000   \n",
      "\n",
      "            PAY_AMT1      PAY_AMT2       PAY_AMT3       PAY_AMT4  \\\n",
      "count   30000.000000  3.000000e+04   30000.000000   30000.000000   \n",
      "mean     5722.323267  5.978074e+03    5285.748167    4877.276867   \n",
      "std     16547.017200  2.302876e+04   17592.436498   15652.912048   \n",
      "min         0.000000  0.000000e+00       0.000000       0.000000   \n",
      "25%      1125.000000  1.000000e+03     614.750000     416.000000   \n",
      "50%      2219.500000  2.100000e+03    2000.000000    1600.000000   \n",
      "75%      5006.000000  5.000000e+03    4505.000000    4013.250000   \n",
      "max    873552.000000  1.684259e+06  896040.000000  621000.000000   \n",
      "\n",
      "            PAY_AMT5       PAY_AMT6  \n",
      "count   30000.000000   30000.000000  \n",
      "mean     4858.368633    5272.942567  \n",
      "std     15262.917890   17763.099957  \n",
      "min         0.000000       0.000000  \n",
      "25%       412.000000     389.000000  \n",
      "50%      1690.000000    1600.000000  \n",
      "75%      4031.500000    4000.000000  \n",
      "max    426529.000000  528666.000000  \n"
     ]
    }
   ],
   "source": [
    "### START CODE HERE ###\n",
    "\n",
    "variations = {column: df[column].unique() for column in df.columns}\n",
    "\n",
    "df.replace('0', np.nan, inplace=True)\n",
    "\n",
    "\n",
    "\n",
    "df.fillna(-1, inplace=True)\n",
    "\n",
    "\n",
    "data_statistics = df.describe()\n",
    "\n",
    "\n",
    "print(data_statistics)\n",
    "\n",
    "# df.columns    \n",
    "### END CODE HERE ###"
   ]
  },
  {
   "cell_type": "markdown",
   "metadata": {},
   "source": [
    "Label encoding the string columns.\n",
    "<details>\n",
    "\n",
    "<summary>\n",
    "<font size=\"3\" color=\"green\">\n",
    "<b>Hints</b>\n",
    "</font>\n",
    "</summary>\n",
    "\n",
    "- Scikitlearn's `preprocessing` migth be useful here.</br>\n",
    "https://scikit-learn.org/stable/modules/preprocessing.html\n",
    "</details> "
   ]
  },
  {
   "cell_type": "code",
   "execution_count": 1083,
   "metadata": {},
   "outputs": [
    {
     "name": "stdout",
     "output_type": "stream",
     "text": [
      "            LIMIT_BAL           AGE         PAY_0         PAY_2         PAY_3  \\\n",
      "count    30000.000000  30000.000000  30000.000000  30000.000000  30000.000000   \n",
      "mean    167484.322667     35.485500     -0.016700     -0.133767     -0.166200   \n",
      "std     129747.661567      9.217904      1.123802      1.197186      1.196868   \n",
      "min      10000.000000     21.000000     -2.000000     -2.000000     -2.000000   \n",
      "25%      50000.000000     28.000000     -1.000000     -1.000000     -1.000000   \n",
      "50%     140000.000000     34.000000      0.000000      0.000000      0.000000   \n",
      "75%     240000.000000     41.000000      0.000000      0.000000      0.000000   \n",
      "max    1000000.000000     79.000000      8.000000      8.000000      8.000000   \n",
      "\n",
      "              PAY_4         PAY_5         PAY_6     BILL_AMT1      BILL_AMT2  \\\n",
      "count  30000.000000  30000.000000  30000.000000   30000.00000   30000.000000   \n",
      "mean      -0.220667     -0.266200     -0.291100   51427.44600   49441.624867   \n",
      "std        1.169139      1.133187      1.149988   73525.40839   71032.418595   \n",
      "min       -2.000000     -2.000000     -2.000000 -165580.00000  -69777.000000   \n",
      "25%       -1.000000     -1.000000     -1.000000    3944.50000    3495.000000   \n",
      "50%        0.000000      0.000000      0.000000   23020.50000   22063.000000   \n",
      "75%        0.000000      0.000000      0.000000   67091.00000   64006.250000   \n",
      "max        8.000000      8.000000      8.000000  964511.00000  983931.000000   \n",
      "\n",
      "          BILL_AMT3      BILL_AMT4      BILL_AMT5      BILL_AMT6  \\\n",
      "count  3.000000e+04   30000.000000   30000.000000   30000.000000   \n",
      "mean   4.730943e+04   43552.827367   40658.974300   39240.717200   \n",
      "std    6.919187e+04   64180.812423   60618.661315   59367.054325   \n",
      "min   -1.572640e+05 -170000.000000  -81334.000000 -339603.000000   \n",
      "25%    3.329750e+03    2839.750000    2358.500000    1760.000000   \n",
      "50%    2.067050e+04   19411.500000   18620.000000   17824.000000   \n",
      "75%    6.016475e+04   54506.000000   50190.500000   49198.250000   \n",
      "max    1.664089e+06  891586.000000  927171.000000  961664.000000   \n",
      "\n",
      "            PAY_AMT1      PAY_AMT2       PAY_AMT3       PAY_AMT4  \\\n",
      "count   30000.000000  3.000000e+04   30000.000000   30000.000000   \n",
      "mean     5722.323267  5.978074e+03    5285.748167    4877.276867   \n",
      "std     16547.017200  2.302876e+04   17592.436498   15652.912048   \n",
      "min         0.000000  0.000000e+00       0.000000       0.000000   \n",
      "25%      1125.000000  1.000000e+03     614.750000     416.000000   \n",
      "50%      2219.500000  2.100000e+03    2000.000000    1600.000000   \n",
      "75%      5006.000000  5.000000e+03    4505.000000    4013.250000   \n",
      "max    873552.000000  1.684259e+06  896040.000000  621000.000000   \n",
      "\n",
      "            PAY_AMT5       PAY_AMT6  \n",
      "count   30000.000000   30000.000000  \n",
      "mean     4858.368633    5272.942567  \n",
      "std     15262.917890   17763.099957  \n",
      "min         0.000000       0.000000  \n",
      "25%       412.000000     389.000000  \n",
      "50%      1690.000000    1600.000000  \n",
      "75%      4031.500000    4000.000000  \n",
      "max    426529.000000  528666.000000  \n"
     ]
    }
   ],
   "source": [
    "### START CODE HERE ###\n",
    "print(data_statistics)\n",
    "data_statistics = df.select_dtypes(include=['string']).columns\n",
    "\n",
    "# Initialize the LabelEncoder\n",
    "label_En = preprocessing.LabelEncoder()\n",
    "\n",
    "# Apply label encoding to each string column\n",
    "for column in data_statistics:\n",
    "    df[column] = label_En.fit_transform(df[column])\n",
    "\n",
    "# print(df['object'])\n",
    "# print(string_columns)\n",
    "### END CODE HERE ###"
   ]
  },
  {
   "cell_type": "markdown",
   "metadata": {},
   "source": [
    "<details>\n",
    "\n",
    "<summary>\n",
    "<font size=\"3\" color=\"orange\">\n",
    "<b>Expected output</b>\n",
    "</font>\n",
    "</summary>\n",
    "\n",
    "```RangeIndex: 30000 entries, 0 to 29999\n",
    "Data columns (total 14 columns):\n",
    " #   Column     Non-Null Count  Dtype  \n",
    "---  ------     --------------  -----  \n",
    " 0   LIMIT_BAL  30000 non-null  int64  \n",
    " 1   SEX        30000 non-null  int64  \n",
    " 2   EDUCATION  30000 non-null  int64  \n",
    " 3   MARRIAGE   30000 non-null  int64  \n",
    " 4   AGE        30000 non-null  int64  \n",
    " 5   PAY_6      30000 non-null  float64\n",
    " 6   BILL_AMT6  30000 non-null  float64\n",
    " 7   PAY_AMT1   30000 non-null  float64\n",
    " 8   PAY_AMT2   30000 non-null  float64\n",
    " 9   PAY_AMT3   30000 non-null  float64\n",
    " 10  PAY_AMT4   30000 non-null  float64\n",
    " 11  PAY_AMT5   30000 non-null  float64\n",
    " 12  PAY_AMT6   30000 non-null  float64\n",
    " 13  default    30000 non-null  int64  \n",
    "dtypes: float64(8), int64(6)\n",
    "memory usage: 3.2 MB\n",
    "```\n",
    "\n",
    "</details>"
   ]
  },
  {
   "cell_type": "code",
   "execution_count": 1084,
   "metadata": {},
   "outputs": [
    {
     "name": "stdout",
     "output_type": "stream",
     "text": [
      "<class 'pandas.core.frame.DataFrame'>\n",
      "RangeIndex: 30000 entries, 0 to 29999\n",
      "Data columns (total 20 columns):\n",
      " #   Column     Non-Null Count  Dtype  \n",
      "---  ------     --------------  -----  \n",
      " 0   LIMIT_BAL  30000 non-null  int64  \n",
      " 1   AGE        30000 non-null  int64  \n",
      " 2   PAY_0      30000 non-null  float64\n",
      " 3   PAY_2      30000 non-null  float64\n",
      " 4   PAY_3      30000 non-null  float64\n",
      " 5   PAY_4      30000 non-null  float64\n",
      " 6   PAY_5      30000 non-null  float64\n",
      " 7   PAY_6      30000 non-null  float64\n",
      " 8   BILL_AMT1  30000 non-null  float64\n",
      " 9   BILL_AMT2  30000 non-null  float64\n",
      " 10  BILL_AMT3  30000 non-null  float64\n",
      " 11  BILL_AMT4  30000 non-null  float64\n",
      " 12  BILL_AMT5  30000 non-null  float64\n",
      " 13  BILL_AMT6  30000 non-null  float64\n",
      " 14  PAY_AMT1   30000 non-null  float64\n",
      " 15  PAY_AMT2   30000 non-null  float64\n",
      " 16  PAY_AMT3   30000 non-null  float64\n",
      " 17  PAY_AMT4   30000 non-null  float64\n",
      " 18  PAY_AMT5   30000 non-null  float64\n",
      " 19  PAY_AMT6   30000 non-null  float64\n",
      "dtypes: float64(18), int64(2)\n",
      "memory usage: 4.6 MB\n"
     ]
    }
   ],
   "source": [
    "df.info()"
   ]
  },
  {
   "cell_type": "markdown",
   "metadata": {},
   "source": [
    "### **Calcualte Chi-Square and P-value**\n",
    "$$\n",
    "\\chi^2 = \\sum \\frac{(O_i - E_i)^2}{E_i}\n",
    "$$\n",
    "$$\n",
    "\\text{p-value} = P(\\chi^2 \\mid \\text{degrees of freedom})\n",
    "$$\n",
    "\n",
    "Show the output in the DataFrame where the output is `default `.\n",
    "\n",
    "<details>\n",
    "\n",
    "<summary>\n",
    "<font size=\"3\" color=\"orange\">\n",
    "<b>Expected output</b>\n",
    "</font>\n",
    "</summary>\n",
    "\n",
    "</br>\n",
    "\n",
    "| Feature    | Chi2 Statistic | P-Value      |\n",
    "|------------|----------------|--------------|\n",
    "| SEX        | 28.922107      | 7.534804e-08 |\n",
    "| EDUCATION  | 41.628348      | 1.103811e-10 |\n",
    "| MARRIAGE   | 2.646896       | 1.037523e-01 |\n",
    "\n",
    "</details>"
   ]
  },
  {
   "cell_type": "code",
   "execution_count": 190,
   "metadata": {},
   "outputs": [
    {
     "ename": "SyntaxError",
     "evalue": "invalid syntax. Perhaps you forgot a comma? (2051684202.py, line 7)",
     "output_type": "error",
     "traceback": [
      "\u001b[1;36m  Cell \u001b[1;32mIn[190], line 7\u001b[1;36m\u001b[0m\n\u001b[1;33m    \"Feature\": None\u001b[0m\n\u001b[1;37m               ^\u001b[0m\n\u001b[1;31mSyntaxError\u001b[0m\u001b[1;31m:\u001b[0m invalid syntax. Perhaps you forgot a comma?\n"
     ]
    }
   ],
   "source": [
    "### START CODE HERE ###\n",
    "output = None\n",
    "variable = None\n",
    "\n",
    "chi2_stat, p_values = chi2(None)\n",
    "chi2_table = pd.DataFrame({\n",
    "    \"Feature\": None\n",
    "    \"Chi2 Statistic\": None\n",
    "    \"P-Value\": None\n",
    "})\n",
    "### END CODE HERE ###\n",
    "chi2_table"
   ]
  },
  {
   "cell_type": "markdown",
   "metadata": {},
   "source": [
    "Drop the columns where `p-value` is more than 0.05."
   ]
  },
  {
   "cell_type": "code",
   "execution_count": null,
   "metadata": {},
   "outputs": [],
   "source": [
    "### START CODE HERE ###\n",
    "to_drop = None\n",
    "print(\"to_drop :\",to_drop)\n",
    "df.drop(None)\n",
    "### END CODE HERE ###"
   ]
  },
  {
   "cell_type": "markdown",
   "metadata": {},
   "source": [
    "## Visualize the final version of DataFrame"
   ]
  },
  {
   "cell_type": "markdown",
   "metadata": {},
   "source": [
    "<details>\n",
    "\n",
    "<summary>\n",
    "<font size=\"3\" color=\"orange\">\n",
    "<b>Expected output</b>\n",
    "</font>\n",
    "</summary>\n",
    "\n",
    "\n",
    "- The output should resemble this, but not be identical, depending on your `.fillna()` method.</br>\n",
    "</br>\n",
    "\n",
    "| LIMIT_BAL | SEX | EDUCATION | AGE | PAY_6 | BILL_AMT6 | PAY_AMT1 | PAY_AMT2 | PAY_AMT3 | PAY_AMT4 | PAY_AMT5 | PAY_AMT6 | default |\n",
    "|-----------|-----|-----------|-----|-------|-----------|----------|----------|----------|----------|----------|----------|---------|\n",
    "| 20000     | 0   | 3         | 24  | -2.0  | 39693.41  | 5817.55  | 689.0    | 0.0      | 0.0      | 0.0      | 0.0      | 1       |\n",
    "| 120000    | 0   | 3         | 26  | 2.0   | 3261.0    | 0.0      | 1000.0   | 1000.0   | 1000.0   | 4972.94  | 2000.0   | 1       |\n",
    "| 90000     | 0   | 3         | 34  | 0.0   | 15549.0   | 1518.0   | 1500.0   | 1000.0   | 1000.0   | 1000.0   | 5000.0   | 0       |\n",
    "| 50000     | 0   | 3         | 37  | 0.0   | 29547.0   | 2000.0   | 2019.0   | 1200.0   | 1100.0   | 1069.0   | 1000.0   | 0       |\n",
    "| 50000     | 1   | 3         | 57  | 0.0   | 19131.0   | 2000.0   | 36681.0  | 10000.0  | 9000.0   | 689.0    | 679.0    | 0       |\n",
    "| ...       | ... | ...       | ... | ...   | ...       | ...      | ...      | ...      | ...      | ...      | ...      | ...     |\n",
    "| 220000    | 1   | 1         | 39  | 0.0   | 15980.0   | 8500.0   | 20000.0  | 5003.0   | 3047.0   | 5000.0   | 1000.0   | 0       |\n",
    "| 150000    | 1   | 1         | 43  | 0.0   | 0.0       | 1837.0   | 3526.0   | 8998.0   | 129.0    | 0.0      | 5409.71  | 0       |\n",
    "| 30000     | 1   | 3         | 37  | 0.0   | 19357.0   | 0.0      | 0.0      | 22000.0  | 4200.0   | 2000.0   | 3100.0   | 1       |\n",
    "| 80000     | 1   | 1         | 41  | -1.0  | 48944.0   | 85900.0  | 3409.0   | 1178.0   | 1926.0   | 52964.0  | 1804.0   | 1       |\n",
    "| 50000     | 1   | 3         | 46  | 0.0   | 15313.0   | 2078.0   | 1800.0   | 1430.0   | 1000.0   | 1000.0   | 1000.0   | 1       |\n",
    "\n",
    "\n",
    "</details>"
   ]
  },
  {
   "cell_type": "code",
   "execution_count": 187,
   "metadata": {},
   "outputs": [
    {
     "data": {
      "text/html": [
       "<div>\n",
       "<style scoped>\n",
       "    .dataframe tbody tr th:only-of-type {\n",
       "        vertical-align: middle;\n",
       "    }\n",
       "\n",
       "    .dataframe tbody tr th {\n",
       "        vertical-align: top;\n",
       "    }\n",
       "\n",
       "    .dataframe thead th {\n",
       "        text-align: right;\n",
       "    }\n",
       "</style>\n",
       "<table border=\"1\" class=\"dataframe\">\n",
       "  <thead>\n",
       "    <tr style=\"text-align: right;\">\n",
       "      <th></th>\n",
       "      <th>LIMIT_BAL</th>\n",
       "      <th>AGE</th>\n",
       "      <th>PAY_6</th>\n",
       "      <th>BILL_AMT6</th>\n",
       "      <th>PAY_AMT1</th>\n",
       "      <th>PAY_AMT2</th>\n",
       "      <th>PAY_AMT3</th>\n",
       "      <th>PAY_AMT4</th>\n",
       "      <th>PAY_AMT5</th>\n",
       "      <th>PAY_AMT6</th>\n",
       "    </tr>\n",
       "  </thead>\n",
       "  <tbody>\n",
       "    <tr>\n",
       "      <th>0</th>\n",
       "      <td>20000</td>\n",
       "      <td>24</td>\n",
       "      <td>-2.0</td>\n",
       "      <td>17824.0</td>\n",
       "      <td>2219.5</td>\n",
       "      <td>689.0</td>\n",
       "      <td>0.0</td>\n",
       "      <td>0.0</td>\n",
       "      <td>0.0</td>\n",
       "      <td>0.0</td>\n",
       "    </tr>\n",
       "    <tr>\n",
       "      <th>1</th>\n",
       "      <td>120000</td>\n",
       "      <td>26</td>\n",
       "      <td>2.0</td>\n",
       "      <td>3261.0</td>\n",
       "      <td>0.0</td>\n",
       "      <td>1000.0</td>\n",
       "      <td>1000.0</td>\n",
       "      <td>1000.0</td>\n",
       "      <td>1690.0</td>\n",
       "      <td>2000.0</td>\n",
       "    </tr>\n",
       "    <tr>\n",
       "      <th>2</th>\n",
       "      <td>90000</td>\n",
       "      <td>34</td>\n",
       "      <td>0.0</td>\n",
       "      <td>15549.0</td>\n",
       "      <td>1518.0</td>\n",
       "      <td>1500.0</td>\n",
       "      <td>1000.0</td>\n",
       "      <td>1000.0</td>\n",
       "      <td>1000.0</td>\n",
       "      <td>5000.0</td>\n",
       "    </tr>\n",
       "    <tr>\n",
       "      <th>3</th>\n",
       "      <td>50000</td>\n",
       "      <td>37</td>\n",
       "      <td>0.0</td>\n",
       "      <td>29547.0</td>\n",
       "      <td>2000.0</td>\n",
       "      <td>2019.0</td>\n",
       "      <td>1200.0</td>\n",
       "      <td>1100.0</td>\n",
       "      <td>1069.0</td>\n",
       "      <td>1000.0</td>\n",
       "    </tr>\n",
       "    <tr>\n",
       "      <th>4</th>\n",
       "      <td>50000</td>\n",
       "      <td>57</td>\n",
       "      <td>0.0</td>\n",
       "      <td>19131.0</td>\n",
       "      <td>2000.0</td>\n",
       "      <td>36681.0</td>\n",
       "      <td>10000.0</td>\n",
       "      <td>9000.0</td>\n",
       "      <td>689.0</td>\n",
       "      <td>679.0</td>\n",
       "    </tr>\n",
       "    <tr>\n",
       "      <th>...</th>\n",
       "      <td>...</td>\n",
       "      <td>...</td>\n",
       "      <td>...</td>\n",
       "      <td>...</td>\n",
       "      <td>...</td>\n",
       "      <td>...</td>\n",
       "      <td>...</td>\n",
       "      <td>...</td>\n",
       "      <td>...</td>\n",
       "      <td>...</td>\n",
       "    </tr>\n",
       "    <tr>\n",
       "      <th>29995</th>\n",
       "      <td>220000</td>\n",
       "      <td>39</td>\n",
       "      <td>0.0</td>\n",
       "      <td>15980.0</td>\n",
       "      <td>8500.0</td>\n",
       "      <td>20000.0</td>\n",
       "      <td>5003.0</td>\n",
       "      <td>3047.0</td>\n",
       "      <td>5000.0</td>\n",
       "      <td>1000.0</td>\n",
       "    </tr>\n",
       "    <tr>\n",
       "      <th>29996</th>\n",
       "      <td>150000</td>\n",
       "      <td>43</td>\n",
       "      <td>0.0</td>\n",
       "      <td>0.0</td>\n",
       "      <td>1837.0</td>\n",
       "      <td>3526.0</td>\n",
       "      <td>8998.0</td>\n",
       "      <td>129.0</td>\n",
       "      <td>0.0</td>\n",
       "      <td>1600.0</td>\n",
       "    </tr>\n",
       "    <tr>\n",
       "      <th>29997</th>\n",
       "      <td>30000</td>\n",
       "      <td>37</td>\n",
       "      <td>0.0</td>\n",
       "      <td>19357.0</td>\n",
       "      <td>0.0</td>\n",
       "      <td>0.0</td>\n",
       "      <td>22000.0</td>\n",
       "      <td>4200.0</td>\n",
       "      <td>2000.0</td>\n",
       "      <td>3100.0</td>\n",
       "    </tr>\n",
       "    <tr>\n",
       "      <th>29998</th>\n",
       "      <td>80000</td>\n",
       "      <td>41</td>\n",
       "      <td>-1.0</td>\n",
       "      <td>48944.0</td>\n",
       "      <td>85900.0</td>\n",
       "      <td>3409.0</td>\n",
       "      <td>1178.0</td>\n",
       "      <td>1926.0</td>\n",
       "      <td>52964.0</td>\n",
       "      <td>1804.0</td>\n",
       "    </tr>\n",
       "    <tr>\n",
       "      <th>29999</th>\n",
       "      <td>50000</td>\n",
       "      <td>46</td>\n",
       "      <td>0.0</td>\n",
       "      <td>15313.0</td>\n",
       "      <td>2078.0</td>\n",
       "      <td>1800.0</td>\n",
       "      <td>1430.0</td>\n",
       "      <td>1000.0</td>\n",
       "      <td>1000.0</td>\n",
       "      <td>1000.0</td>\n",
       "    </tr>\n",
       "  </tbody>\n",
       "</table>\n",
       "<p>30000 rows × 10 columns</p>\n",
       "</div>"
      ],
      "text/plain": [
       "       LIMIT_BAL  AGE  PAY_6  BILL_AMT6  PAY_AMT1  PAY_AMT2  PAY_AMT3  \\\n",
       "0          20000   24   -2.0    17824.0    2219.5     689.0       0.0   \n",
       "1         120000   26    2.0     3261.0       0.0    1000.0    1000.0   \n",
       "2          90000   34    0.0    15549.0    1518.0    1500.0    1000.0   \n",
       "3          50000   37    0.0    29547.0    2000.0    2019.0    1200.0   \n",
       "4          50000   57    0.0    19131.0    2000.0   36681.0   10000.0   \n",
       "...          ...  ...    ...        ...       ...       ...       ...   \n",
       "29995     220000   39    0.0    15980.0    8500.0   20000.0    5003.0   \n",
       "29996     150000   43    0.0        0.0    1837.0    3526.0    8998.0   \n",
       "29997      30000   37    0.0    19357.0       0.0       0.0   22000.0   \n",
       "29998      80000   41   -1.0    48944.0   85900.0    3409.0    1178.0   \n",
       "29999      50000   46    0.0    15313.0    2078.0    1800.0    1430.0   \n",
       "\n",
       "       PAY_AMT4  PAY_AMT5  PAY_AMT6  \n",
       "0           0.0       0.0       0.0  \n",
       "1        1000.0    1690.0    2000.0  \n",
       "2        1000.0    1000.0    5000.0  \n",
       "3        1100.0    1069.0    1000.0  \n",
       "4        9000.0     689.0     679.0  \n",
       "...         ...       ...       ...  \n",
       "29995    3047.0    5000.0    1000.0  \n",
       "29996     129.0       0.0    1600.0  \n",
       "29997    4200.0    2000.0    3100.0  \n",
       "29998    1926.0   52964.0    1804.0  \n",
       "29999    1000.0    1000.0    1000.0  \n",
       "\n",
       "[30000 rows x 10 columns]"
      ]
     },
     "execution_count": 187,
     "metadata": {},
     "output_type": "execute_result"
    }
   ],
   "source": [
    "df"
   ]
  }
 ],
 "metadata": {
  "kernelspec": {
   "display_name": "pytorch",
   "language": "python",
   "name": "python3"
  },
  "language_info": {
   "codemirror_mode": {
    "name": "ipython",
    "version": 3
   },
   "file_extension": ".py",
   "mimetype": "text/x-python",
   "name": "python",
   "nbconvert_exporter": "python",
   "pygments_lexer": "ipython3",
   "version": "3.10.13"
  }
 },
 "nbformat": 4,
 "nbformat_minor": 2
}
