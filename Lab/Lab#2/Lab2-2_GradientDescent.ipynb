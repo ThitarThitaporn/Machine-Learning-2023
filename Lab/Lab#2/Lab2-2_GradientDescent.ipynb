{
 "cells": [
  {
   "cell_type": "markdown",
   "metadata": {},
   "source": [
    "# **LAB 2 - PART 2 Gradient Descent**"
   ]
  },
  {
   "cell_type": "code",
   "execution_count": 2,
   "metadata": {},
   "outputs": [],
   "source": [
    "import numpy as np\n",
    "import pandas as pd\n",
    "import matplotlib.pyplot as plt\n",
    "from sklearn import preprocessing\n",
    "from matplotlib.animation import FuncAnimation\n",
    "from IPython.display import display, Image"
   ]
  },
  {
   "cell_type": "markdown",
   "metadata": {},
   "source": [
    "### **Read file, Explore Data, Data Cleansing**"
   ]
  },
  {
   "cell_type": "code",
   "execution_count": 4,
   "metadata": {},
   "outputs": [
    {
     "name": "stdout",
     "output_type": "stream",
     "text": [
      "   No  Gold Price Increment  Bitcoin Increment\n",
      "0   1                    -1                846\n",
      "1   2                    -4                424\n",
      "2   3                     2               1560\n",
      "3   4                    -3                523\n",
      "4   5                     1               1012\n",
      "5   6                    -2                663\n",
      "6   7                     4               1624\n",
      "7   8                     5               1882\n",
      "8   9                     2               1263\n"
     ]
    }
   ],
   "source": [
    "### START CODE HERE ###\n",
    "df = pd.read_csv(\"Gradient-Descent-example-data.csv\")\n",
    "# print(df)\n",
    "### END CODE HERE ###"
   ]
  },
  {
   "cell_type": "markdown",
   "metadata": {},
   "source": [
    "### **Create a `Bitcoin Increment_standardize` columns**"
   ]
  },
  {
   "cell_type": "code",
   "execution_count": null,
   "metadata": {},
   "outputs": [],
   "source": [
    "### START CODE HERE ###\n",
    "standardize_scaler = None\n",
    "\n",
    "### END CODE HERE ###\n",
    "df"
   ]
  },
  {
   "cell_type": "markdown",
   "metadata": {},
   "source": [
    "### **Gradient Descent**"
   ]
  },
  {
   "attachments": {
    "image.png": {
     "image/png": "[encoded data removed]"
    }
   },
   "cell_type": "markdown",
   "metadata": {},
   "source": [
    "$$\n",
    "h_{\\theta} = \\theta_1x + \\theta_0 \n",
    "\\\\\n",
    "J(\\theta) = (y-h{(x)})^2\n",
    "\\\\\n",
    "\\theta_{j} \\leftarrow \\theta_{j} - \\alpha \\frac{\\partial}{\\partial \\theta_{j}} J(\\theta)\n",
    "$$\n",
    "Demonstrate a single step of Gradient Descent. Then plot the graph that shows the model before and after the update parameters\n",
    "\n",
    "Let's  $x = Gold\\ Price\\ Increment, y = Bitcoin\\ Increment\\_standardize, \\theta_0 = 0.4, \\theta_1 = 0.8, learning\\ rate = 0.01$\n",
    "\n",
    "<details>\n",
    "\n",
    "<summary>\n",
    "<font size=\"3\" color=\"orange\">\n",
    "<b>Expected output</b>\n",
    "</font>\n",
    "</summary>\n",
    "\n",
    "![image.png](attachment:image.png)\n",
    "\n",
    "</details>"
   ]
  },
  {
   "cell_type": "code",
   "execution_count": null,
   "metadata": {},
   "outputs": [],
   "source": [
    "### START CODE HERE ###\n",
    "theta_0 = 0.4\n",
    "theta_1 = 0.8\n",
    "alpha = 0.01\n",
    "\n",
    "y = df['Bitcoin Increment_standardize']\n",
    "x = df['Gold Price Increment']\n",
    "\n",
    "h_before = None\n",
    "grad_J_theta_1 = None\n",
    "grad_J_theta_0 = None\n",
    "theta_1 = theta_1-None\n",
    "theta_0 = theta_0-None\n",
    "h_after = None\n",
    "\n",
    "\n",
    "### END CODE HERE ###"
   ]
  },
  {
   "cell_type": "markdown",
   "metadata": {},
   "source": [
    "Now let's create N iterations of gradient descent, <span style='color: orange;'>***print all parameters and loss every iteration***</span> then <span style='color: orange;'>***plot the loss history***</span> and <span style='color: orange;'>***save the animation to show the change of model in each iteration to .gif***</span>.\n",
    "\n",
    "Let's  $x = Gold\\ Price\\ Increment, y = Bitcoin\\ Increment\\_standardize, \\theta_0 \\in [0,1], \\theta_1 \\in [0,1], learning\\ rate = alpha$\n"
   ]
  },
  {
   "cell_type": "code",
   "execution_count": null,
   "metadata": {},
   "outputs": [],
   "source": [
    "### START CODE HERE ###\n",
    "def gradient_descent():\n",
    "    pass\n",
    "### END CODE HERE ###"
   ]
  },
  {
   "cell_type": "code",
   "execution_count": null,
   "metadata": {},
   "outputs": [],
   "source": [
    "### START CODE HERE ###\n",
    "theta_0 = None\n",
    "theta_1 = None\n",
    "alpha = None\n",
    "\n",
    "y = None\n",
    "x = None\n",
    "\n",
    "\n",
    "# use  gradient_descent() here to estimate theta_0, theta_1 @all iterations\n",
    "\n",
    "\n",
    "\n",
    "### END CODE HERE ###"
   ]
  },
  {
   "cell_type": "markdown",
   "metadata": {},
   "source": [
    "### Show Figure of scatter plot of data and regression model (Red line) at each iteration\n",
    "Try figure animation using FuncAnimation()**\n",
    "\n",
    "<details>\n",
    "<summary>\n",
    "<font size=\"3\" color=\"orange\">\n",
    "<b>Expected output</b>\n",
    "</font>\n",
    "</summary>\n",
    "\n",
    "![SegmentLocal](parameter_update_animation.gif \"segment\")\n",
    "\n",
    "</details>"
   ]
  },
  {
   "cell_type": "code",
   "execution_count": null,
   "metadata": {},
   "outputs": [],
   "source": [
    "### START CODE HERE ###\n",
    "\n",
    "### END CODE HERE ###"
   ]
  },
  {
   "cell_type": "markdown",
   "metadata": {},
   "source": [
    "### Create the `Predicted_standardize` columns from the best parameters set\n",
    "\n",
    "<details>\n",
    "\n",
    "<summary>\n",
    "<font size=\"3\" color=\"orange\">\n",
    "<b>Expected output</b>\n",
    "</font>\n",
    "</summary>\n",
    "\n",
    "- The output should resemble this, but not be identical, depending on your initial parameters value.</br>\n",
    "<br>\n",
    "\n",
    "| Gold Price Increment | Bitcoin Increment | Bitcoin Increment_standardize | Predicted_standardize |\n",
    "|----------------------|-------------------|-------------------------------|------------------------|\n",
    "| -1                | 846                           | -0.493265              | -0.169845              |\n",
    "| -4                | 424                           | -1.351452              | -1.063912              |\n",
    "| 2                 | 1560                          | 0.958738               | 0.724223               |\n",
    "| -3                | 523                           | -1.150124              | -0.765890              |\n",
    "\n",
    "\n",
    "\n",
    "</details>"
   ]
  },
  {
   "cell_type": "code",
   "execution_count": null,
   "metadata": {},
   "outputs": [],
   "source": [
    "### START CODE HERE ###\n",
    "\n",
    "\n",
    "\n",
    "### END CODE HERE ###\n",
    "df"
   ]
  },
  {
   "cell_type": "markdown",
   "metadata": {},
   "source": [
    "Create the `Predicted` that inverse standardize of `Predicted_standardize`\n",
    "\n",
    "\n",
    "<details>\n",
    "\n",
    "<summary>\n",
    "<font size=\"3\" color=\"orange\">\n",
    "<b>Expected output</b>\n",
    "</font>\n",
    "</summary>\n",
    "\n",
    "- The output should resemble this, but not be identical, depending on your initial parameters value.</br>\n",
    "<br>\n",
    "\n",
    "| Gold Price Increment | Bitcoin Increment | Bitcoin Increment_standardize | Predicted_standardize | Predicted       |\n",
    "|----------------------|-------------------|-------------------------------|------------------------|-----------------|\n",
    "| -1                | 846                           | -0.493265              | -0.239102\t   | 970.981043| 1005.037081     |\n",
    "| -4                | 424                           | -1.351452              | -1.148680\t   | 523.710247     |\n",
    "| 2                 | 1560                          | 0.958738               | 0.670476\t       | 1418.251840     |\n",
    "| -3                | 523                           | -1.150124              | -0.845487\t   | 672.800513     |\n",
    "\n",
    "\n",
    "\n",
    "</details>"
   ]
  },
  {
   "cell_type": "code",
   "execution_count": null,
   "metadata": {},
   "outputs": [],
   "source": [
    "### START CODE HERE ###\n",
    "\n",
    "\n",
    "\n",
    "### END CODE HERE ###\n",
    "df"
   ]
  },
  {
   "cell_type": "markdown",
   "metadata": {},
   "source": [
    "## Question\n",
    "1. What would be the iteration that gives the best parameters?\n",
    "2. What are the best regression model parameters?\n",
    "3. Show regression model equation of best parameters compared to the regression model equation from the last iteration (#30) "
   ]
  },
  {
   "cell_type": "code",
   "execution_count": null,
   "metadata": {},
   "outputs": [],
   "source": [
    "# Ans"
   ]
  }
 ],
 "metadata": {
  "kernelspec": {
   "display_name": "pytorch",
   "language": "python",
   "name": "python3"
  },
  "language_info": {
   "codemirror_mode": {
    "name": "ipython",
    "version": 3
   },
   "file_extension": ".py",
   "mimetype": "text/x-python",
   "name": "python",
   "nbconvert_exporter": "python",
   "pygments_lexer": "ipython3",
   "version": "3.10.13"
  }
 },
 "nbformat": 4,
 "nbformat_minor": 2
}
